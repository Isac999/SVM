{
  "nbformat": 4,
  "nbformat_minor": 0,
  "metadata": {
    "colab": {
      "provenance": []
    },
    "kernelspec": {
      "name": "python3",
      "display_name": "Python 3"
    },
    "language_info": {
      "name": "python"
    }
  },
  "cells": [
    {
      "cell_type": "code",
      "execution_count": 154,
      "metadata": {
        "id": "A3vG9ru3sgGL"
      },
      "outputs": [],
      "source": [
        "import numpy as np\n",
        "import pandas as pd\n",
        "from sklearn import svm\n",
        "from sklearn import metrics\n",
        "from sklearn.model_selection import train_test_split"
      ]
    },
    {
      "cell_type": "code",
      "source": [
        "df = pd.read_excel(r'Cryotherapy.xlsx')\n",
        "df"
      ],
      "metadata": {
        "colab": {
          "base_uri": "https://localhost:8080/",
          "height": 655
        },
        "id": "MqKD4t-4sutn",
        "outputId": "f2c3a31b-c470-462a-efff-6a98c9f2c554"
      },
      "execution_count": 88,
      "outputs": [
        {
          "output_type": "execute_result",
          "data": {
            "text/plain": [
              "    sex  age   Time  Number_of_Warts  Type  Area  Result_of_Treatment\n",
              "0     1   35  12.00                5     1   100                    0\n",
              "1     1   29   7.00                5     1    96                    1\n",
              "2     1   50   8.00                1     3   132                    0\n",
              "3     1   32  11.75                7     3   750                    0\n",
              "4     1   67   9.25                1     1    42                    0\n",
              "..  ...  ...    ...              ...   ...   ...                  ...\n",
              "85    2   34  12.00                3     3    95                    0\n",
              "86    2   20   3.50                6     1    75                    1\n",
              "87    2   35   8.25                8     3   100                    0\n",
              "88    1   24  10.75               10     1    20                    1\n",
              "89    1   19   8.00                8     1   160                    1\n",
              "\n",
              "[90 rows x 7 columns]"
            ],
            "text/html": [
              "\n",
              "  <div id=\"df-2a4affb7-f1dd-46ef-b516-540427cdf270\">\n",
              "    <div class=\"colab-df-container\">\n",
              "      <div>\n",
              "<style scoped>\n",
              "    .dataframe tbody tr th:only-of-type {\n",
              "        vertical-align: middle;\n",
              "    }\n",
              "\n",
              "    .dataframe tbody tr th {\n",
              "        vertical-align: top;\n",
              "    }\n",
              "\n",
              "    .dataframe thead th {\n",
              "        text-align: right;\n",
              "    }\n",
              "</style>\n",
              "<table border=\"1\" class=\"dataframe\">\n",
              "  <thead>\n",
              "    <tr style=\"text-align: right;\">\n",
              "      <th></th>\n",
              "      <th>sex</th>\n",
              "      <th>age</th>\n",
              "      <th>Time</th>\n",
              "      <th>Number_of_Warts</th>\n",
              "      <th>Type</th>\n",
              "      <th>Area</th>\n",
              "      <th>Result_of_Treatment</th>\n",
              "    </tr>\n",
              "  </thead>\n",
              "  <tbody>\n",
              "    <tr>\n",
              "      <th>0</th>\n",
              "      <td>1</td>\n",
              "      <td>35</td>\n",
              "      <td>12.00</td>\n",
              "      <td>5</td>\n",
              "      <td>1</td>\n",
              "      <td>100</td>\n",
              "      <td>0</td>\n",
              "    </tr>\n",
              "    <tr>\n",
              "      <th>1</th>\n",
              "      <td>1</td>\n",
              "      <td>29</td>\n",
              "      <td>7.00</td>\n",
              "      <td>5</td>\n",
              "      <td>1</td>\n",
              "      <td>96</td>\n",
              "      <td>1</td>\n",
              "    </tr>\n",
              "    <tr>\n",
              "      <th>2</th>\n",
              "      <td>1</td>\n",
              "      <td>50</td>\n",
              "      <td>8.00</td>\n",
              "      <td>1</td>\n",
              "      <td>3</td>\n",
              "      <td>132</td>\n",
              "      <td>0</td>\n",
              "    </tr>\n",
              "    <tr>\n",
              "      <th>3</th>\n",
              "      <td>1</td>\n",
              "      <td>32</td>\n",
              "      <td>11.75</td>\n",
              "      <td>7</td>\n",
              "      <td>3</td>\n",
              "      <td>750</td>\n",
              "      <td>0</td>\n",
              "    </tr>\n",
              "    <tr>\n",
              "      <th>4</th>\n",
              "      <td>1</td>\n",
              "      <td>67</td>\n",
              "      <td>9.25</td>\n",
              "      <td>1</td>\n",
              "      <td>1</td>\n",
              "      <td>42</td>\n",
              "      <td>0</td>\n",
              "    </tr>\n",
              "    <tr>\n",
              "      <th>...</th>\n",
              "      <td>...</td>\n",
              "      <td>...</td>\n",
              "      <td>...</td>\n",
              "      <td>...</td>\n",
              "      <td>...</td>\n",
              "      <td>...</td>\n",
              "      <td>...</td>\n",
              "    </tr>\n",
              "    <tr>\n",
              "      <th>85</th>\n",
              "      <td>2</td>\n",
              "      <td>34</td>\n",
              "      <td>12.00</td>\n",
              "      <td>3</td>\n",
              "      <td>3</td>\n",
              "      <td>95</td>\n",
              "      <td>0</td>\n",
              "    </tr>\n",
              "    <tr>\n",
              "      <th>86</th>\n",
              "      <td>2</td>\n",
              "      <td>20</td>\n",
              "      <td>3.50</td>\n",
              "      <td>6</td>\n",
              "      <td>1</td>\n",
              "      <td>75</td>\n",
              "      <td>1</td>\n",
              "    </tr>\n",
              "    <tr>\n",
              "      <th>87</th>\n",
              "      <td>2</td>\n",
              "      <td>35</td>\n",
              "      <td>8.25</td>\n",
              "      <td>8</td>\n",
              "      <td>3</td>\n",
              "      <td>100</td>\n",
              "      <td>0</td>\n",
              "    </tr>\n",
              "    <tr>\n",
              "      <th>88</th>\n",
              "      <td>1</td>\n",
              "      <td>24</td>\n",
              "      <td>10.75</td>\n",
              "      <td>10</td>\n",
              "      <td>1</td>\n",
              "      <td>20</td>\n",
              "      <td>1</td>\n",
              "    </tr>\n",
              "    <tr>\n",
              "      <th>89</th>\n",
              "      <td>1</td>\n",
              "      <td>19</td>\n",
              "      <td>8.00</td>\n",
              "      <td>8</td>\n",
              "      <td>1</td>\n",
              "      <td>160</td>\n",
              "      <td>1</td>\n",
              "    </tr>\n",
              "  </tbody>\n",
              "</table>\n",
              "<p>90 rows × 7 columns</p>\n",
              "</div>\n",
              "      <button class=\"colab-df-convert\" onclick=\"convertToInteractive('df-2a4affb7-f1dd-46ef-b516-540427cdf270')\"\n",
              "              title=\"Convert this dataframe to an interactive table.\"\n",
              "              style=\"display:none;\">\n",
              "        \n",
              "  <svg xmlns=\"http://www.w3.org/2000/svg\" height=\"24px\"viewBox=\"0 0 24 24\"\n",
              "       width=\"24px\">\n",
              "    <path d=\"M0 0h24v24H0V0z\" fill=\"none\"/>\n",
              "    <path d=\"M18.56 5.44l.94 2.06.94-2.06 2.06-.94-2.06-.94-.94-2.06-.94 2.06-2.06.94zm-11 1L8.5 8.5l.94-2.06 2.06-.94-2.06-.94L8.5 2.5l-.94 2.06-2.06.94zm10 10l.94 2.06.94-2.06 2.06-.94-2.06-.94-.94-2.06-.94 2.06-2.06.94z\"/><path d=\"M17.41 7.96l-1.37-1.37c-.4-.4-.92-.59-1.43-.59-.52 0-1.04.2-1.43.59L10.3 9.45l-7.72 7.72c-.78.78-.78 2.05 0 2.83L4 21.41c.39.39.9.59 1.41.59.51 0 1.02-.2 1.41-.59l7.78-7.78 2.81-2.81c.8-.78.8-2.07 0-2.86zM5.41 20L4 18.59l7.72-7.72 1.47 1.35L5.41 20z\"/>\n",
              "  </svg>\n",
              "      </button>\n",
              "      \n",
              "  <style>\n",
              "    .colab-df-container {\n",
              "      display:flex;\n",
              "      flex-wrap:wrap;\n",
              "      gap: 12px;\n",
              "    }\n",
              "\n",
              "    .colab-df-convert {\n",
              "      background-color: #E8F0FE;\n",
              "      border: none;\n",
              "      border-radius: 50%;\n",
              "      cursor: pointer;\n",
              "      display: none;\n",
              "      fill: #1967D2;\n",
              "      height: 32px;\n",
              "      padding: 0 0 0 0;\n",
              "      width: 32px;\n",
              "    }\n",
              "\n",
              "    .colab-df-convert:hover {\n",
              "      background-color: #E2EBFA;\n",
              "      box-shadow: 0px 1px 2px rgba(60, 64, 67, 0.3), 0px 1px 3px 1px rgba(60, 64, 67, 0.15);\n",
              "      fill: #174EA6;\n",
              "    }\n",
              "\n",
              "    [theme=dark] .colab-df-convert {\n",
              "      background-color: #3B4455;\n",
              "      fill: #D2E3FC;\n",
              "    }\n",
              "\n",
              "    [theme=dark] .colab-df-convert:hover {\n",
              "      background-color: #434B5C;\n",
              "      box-shadow: 0px 1px 3px 1px rgba(0, 0, 0, 0.15);\n",
              "      filter: drop-shadow(0px 1px 2px rgba(0, 0, 0, 0.3));\n",
              "      fill: #FFFFFF;\n",
              "    }\n",
              "  </style>\n",
              "\n",
              "      <script>\n",
              "        const buttonEl =\n",
              "          document.querySelector('#df-2a4affb7-f1dd-46ef-b516-540427cdf270 button.colab-df-convert');\n",
              "        buttonEl.style.display =\n",
              "          google.colab.kernel.accessAllowed ? 'block' : 'none';\n",
              "\n",
              "        async function convertToInteractive(key) {\n",
              "          const element = document.querySelector('#df-2a4affb7-f1dd-46ef-b516-540427cdf270');\n",
              "          const dataTable =\n",
              "            await google.colab.kernel.invokeFunction('convertToInteractive',\n",
              "                                                     [key], {});\n",
              "          if (!dataTable) return;\n",
              "\n",
              "          const docLinkHtml = 'Like what you see? Visit the ' +\n",
              "            '<a target=\"_blank\" href=https://colab.research.google.com/notebooks/data_table.ipynb>data table notebook</a>'\n",
              "            + ' to learn more about interactive tables.';\n",
              "          element.innerHTML = '';\n",
              "          dataTable['output_type'] = 'display_data';\n",
              "          await google.colab.output.renderOutput(dataTable, element);\n",
              "          const docLink = document.createElement('div');\n",
              "          docLink.innerHTML = docLinkHtml;\n",
              "          element.appendChild(docLink);\n",
              "        }\n",
              "      </script>\n",
              "    </div>\n",
              "  </div>\n",
              "  "
            ]
          },
          "metadata": {},
          "execution_count": 88
        }
      ]
    },
    {
      "cell_type": "code",
      "source": [
        "x = df[['sex', 'age', 'Time', 'Number_of_Warts', 'Type', 'Area']].values\n",
        "x"
      ],
      "metadata": {
        "id": "LUc0Pl_1thHt",
        "colab": {
          "base_uri": "https://localhost:8080/"
        },
        "outputId": "37464d69-68ad-4add-8842-f48e44944c7a"
      },
      "execution_count": 122,
      "outputs": [
        {
          "output_type": "execute_result",
          "data": {
            "text/plain": [
              "array([[1.000e+00, 3.500e+01, 1.200e+01, 5.000e+00, 1.000e+00, 1.000e+02],\n",
              "       [1.000e+00, 2.900e+01, 7.000e+00, 5.000e+00, 1.000e+00, 9.600e+01],\n",
              "       [1.000e+00, 5.000e+01, 8.000e+00, 1.000e+00, 3.000e+00, 1.320e+02],\n",
              "       [1.000e+00, 3.200e+01, 1.175e+01, 7.000e+00, 3.000e+00, 7.500e+02],\n",
              "       [1.000e+00, 6.700e+01, 9.250e+00, 1.000e+00, 1.000e+00, 4.200e+01],\n",
              "       [1.000e+00, 4.100e+01, 8.000e+00, 2.000e+00, 2.000e+00, 2.000e+01],\n",
              "       [1.000e+00, 3.600e+01, 1.100e+01, 2.000e+00, 1.000e+00, 8.000e+00],\n",
              "       [1.000e+00, 5.900e+01, 3.500e+00, 3.000e+00, 3.000e+00, 2.000e+01],\n",
              "       [1.000e+00, 2.000e+01, 4.500e+00, 1.200e+01, 1.000e+00, 6.000e+00],\n",
              "       [2.000e+00, 3.400e+01, 1.125e+01, 3.000e+00, 3.000e+00, 1.500e+02],\n",
              "       [2.000e+00, 2.100e+01, 1.075e+01, 5.000e+00, 1.000e+00, 3.500e+01],\n",
              "       [2.000e+00, 1.500e+01, 6.000e+00, 2.000e+00, 1.000e+00, 3.000e+01],\n",
              "       [2.000e+00, 1.500e+01, 2.000e+00, 3.000e+00, 1.000e+00, 4.000e+00],\n",
              "       [2.000e+00, 1.500e+01, 3.750e+00, 2.000e+00, 3.000e+00, 7.000e+01],\n",
              "       [2.000e+00, 1.700e+01, 1.100e+01, 2.000e+00, 1.000e+00, 1.000e+01],\n",
              "       [2.000e+00, 1.700e+01, 5.250e+00, 3.000e+00, 1.000e+00, 6.300e+01],\n",
              "       [2.000e+00, 2.300e+01, 1.175e+01, 1.200e+01, 3.000e+00, 7.200e+01],\n",
              "       [2.000e+00, 2.700e+01, 8.750e+00, 2.000e+00, 1.000e+00, 6.000e+00],\n",
              "       [2.000e+00, 1.500e+01, 4.250e+00, 1.000e+00, 1.000e+00, 6.000e+00],\n",
              "       [2.000e+00, 1.800e+01, 5.750e+00, 1.000e+00, 1.000e+00, 8.000e+01],\n",
              "       [1.000e+00, 2.200e+01, 5.500e+00, 2.000e+00, 1.000e+00, 7.000e+01],\n",
              "       [2.000e+00, 1.600e+01, 8.500e+00, 1.000e+00, 2.000e+00, 6.000e+01],\n",
              "       [1.000e+00, 2.800e+01, 4.750e+00, 3.000e+00, 1.000e+00, 1.000e+02],\n",
              "       [2.000e+00, 4.000e+01, 9.750e+00, 1.000e+00, 2.000e+00, 8.000e+01],\n",
              "       [1.000e+00, 3.000e+01, 2.500e+00, 2.000e+00, 1.000e+00, 1.150e+02],\n",
              "       [2.000e+00, 3.400e+01, 1.200e+01, 3.000e+00, 3.000e+00, 9.500e+01],\n",
              "       [1.000e+00, 2.000e+01, 5.000e-01, 2.000e+00, 1.000e+00, 7.500e+01],\n",
              "       [2.000e+00, 3.500e+01, 1.200e+01, 5.000e+00, 3.000e+00, 1.000e+02],\n",
              "       [2.000e+00, 2.400e+01, 9.500e+00, 3.000e+00, 3.000e+00, 2.000e+01],\n",
              "       [2.000e+00, 1.900e+01, 8.750e+00, 6.000e+00, 1.000e+00, 1.600e+02],\n",
              "       [1.000e+00, 3.500e+01, 9.250e+00, 9.000e+00, 1.000e+00, 1.000e+02],\n",
              "       [1.000e+00, 2.900e+01, 7.250e+00, 6.000e+00, 1.000e+00, 9.600e+01],\n",
              "       [1.000e+00, 5.000e+01, 8.750e+00, 1.100e+01, 3.000e+00, 1.320e+02],\n",
              "       [2.000e+00, 3.200e+01, 1.200e+01, 4.000e+00, 3.000e+00, 7.500e+02],\n",
              "       [2.000e+00, 6.700e+01, 1.200e+01, 1.200e+01, 3.000e+00, 4.200e+01],\n",
              "       [2.000e+00, 4.100e+01, 1.050e+01, 2.000e+00, 2.000e+00, 2.000e+01],\n",
              "       [2.000e+00, 3.600e+01, 1.100e+01, 6.000e+00, 1.000e+00, 8.000e+00],\n",
              "       [1.000e+00, 6.300e+01, 2.750e+00, 3.000e+00, 3.000e+00, 2.000e+01],\n",
              "       [1.000e+00, 2.000e+01, 5.000e+00, 3.000e+00, 1.000e+00, 6.000e+00],\n",
              "       [1.000e+00, 3.400e+01, 1.200e+01, 1.000e+00, 3.000e+00, 1.500e+02],\n",
              "       [2.000e+00, 2.100e+01, 1.050e+01, 5.000e+00, 1.000e+00, 3.500e+01],\n",
              "       [2.000e+00, 1.500e+01, 8.000e+00, 1.200e+01, 1.000e+00, 3.000e+01],\n",
              "       [1.000e+00, 1.500e+01, 3.500e+00, 2.000e+00, 1.000e+00, 4.000e+00],\n",
              "       [2.000e+00, 1.500e+01, 1.500e+00, 1.200e+01, 3.000e+00, 7.000e+01],\n",
              "       [1.000e+00, 1.700e+01, 1.150e+01, 2.000e+00, 1.000e+00, 1.000e+01],\n",
              "       [1.000e+00, 1.700e+01, 5.250e+00, 4.000e+00, 1.000e+00, 6.300e+01],\n",
              "       [2.000e+00, 2.300e+01, 9.500e+00, 5.000e+00, 3.000e+00, 7.200e+01],\n",
              "       [1.000e+00, 2.700e+01, 1.000e+01, 5.000e+00, 1.000e+00, 6.000e+00],\n",
              "       [1.000e+00, 1.500e+01, 4.000e+00, 7.000e+00, 1.000e+00, 6.000e+00],\n",
              "       [2.000e+00, 1.800e+01, 4.500e+00, 8.000e+00, 1.000e+00, 8.000e+01],\n",
              "       [2.000e+00, 2.200e+01, 5.000e+00, 9.000e+00, 1.000e+00, 7.000e+01],\n",
              "       [1.000e+00, 1.600e+01, 1.025e+01, 3.000e+00, 2.000e+00, 6.000e+01],\n",
              "       [2.000e+00, 2.800e+01, 4.000e+00, 1.100e+01, 1.000e+00, 1.000e+02],\n",
              "       [2.000e+00, 4.000e+01, 8.750e+00, 6.000e+00, 2.000e+00, 8.000e+01],\n",
              "       [2.000e+00, 3.000e+01, 5.000e-01, 8.000e+00, 3.000e+00, 1.150e+02],\n",
              "       [1.000e+00, 3.400e+01, 1.075e+01, 1.000e+00, 3.000e+00, 9.500e+01],\n",
              "       [1.000e+00, 2.000e+01, 3.750e+00, 1.100e+01, 1.000e+00, 7.500e+01],\n",
              "       [2.000e+00, 3.500e+01, 8.500e+00, 6.000e+00, 3.000e+00, 1.000e+02],\n",
              "       [1.000e+00, 2.400e+01, 9.500e+00, 8.000e+00, 1.000e+00, 2.000e+01],\n",
              "       [2.000e+00, 1.900e+01, 8.000e+00, 9.000e+00, 1.000e+00, 1.600e+02],\n",
              "       [1.000e+00, 3.500e+01, 7.250e+00, 2.000e+00, 1.000e+00, 1.000e+02],\n",
              "       [1.000e+00, 2.900e+01, 1.175e+01, 5.000e+00, 1.000e+00, 9.600e+01],\n",
              "       [2.000e+00, 5.000e+01, 9.500e+00, 4.000e+00, 3.000e+00, 1.320e+02],\n",
              "       [2.000e+00, 3.200e+01, 1.200e+01, 1.200e+01, 3.000e+00, 7.500e+02],\n",
              "       [1.000e+00, 6.700e+01, 1.000e+01, 7.000e+00, 1.000e+00, 4.200e+01],\n",
              "       [2.000e+00, 4.100e+01, 7.750e+00, 5.000e+00, 2.000e+00, 2.000e+01],\n",
              "       [2.000e+00, 3.600e+01, 1.050e+01, 4.000e+00, 1.000e+00, 8.000e+00],\n",
              "       [1.000e+00, 6.700e+01, 3.750e+00, 1.100e+01, 3.000e+00, 2.000e+01],\n",
              "       [1.000e+00, 2.000e+01, 4.000e+00, 3.000e+00, 1.000e+00, 6.000e+00],\n",
              "       [1.000e+00, 3.400e+01, 1.125e+01, 1.000e+00, 3.000e+00, 1.500e+02],\n",
              "       [2.000e+00, 2.100e+01, 1.075e+01, 7.000e+00, 1.000e+00, 3.500e+01],\n",
              "       [1.000e+00, 1.500e+01, 1.050e+01, 1.100e+01, 1.000e+00, 3.000e+01],\n",
              "       [1.000e+00, 1.500e+01, 2.000e+00, 1.100e+01, 1.000e+00, 4.000e+00],\n",
              "       [2.000e+00, 1.500e+01, 2.000e+00, 1.000e+01, 3.000e+00, 7.000e+01],\n",
              "       [1.000e+00, 1.700e+01, 9.250e+00, 1.200e+01, 1.000e+00, 1.000e+01],\n",
              "       [1.000e+00, 1.700e+01, 5.750e+00, 1.000e+01, 1.000e+00, 6.300e+01],\n",
              "       [1.000e+00, 2.300e+01, 1.025e+01, 7.000e+00, 3.000e+00, 7.200e+01],\n",
              "       [1.000e+00, 2.700e+01, 1.050e+01, 7.000e+00, 1.000e+00, 6.000e+00],\n",
              "       [1.000e+00, 1.500e+01, 5.500e+00, 5.000e+00, 1.000e+00, 6.000e+00],\n",
              "       [1.000e+00, 1.800e+01, 4.000e+00, 1.000e+00, 1.000e+00, 8.000e+01],\n",
              "       [2.000e+00, 2.200e+01, 4.500e+00, 2.000e+00, 1.000e+00, 7.000e+01],\n",
              "       [1.000e+00, 1.600e+01, 1.100e+01, 3.000e+00, 2.000e+00, 6.000e+01],\n",
              "       [2.000e+00, 2.800e+01, 5.000e+00, 9.000e+00, 1.000e+00, 1.000e+02],\n",
              "       [1.000e+00, 4.000e+01, 1.150e+01, 9.000e+00, 2.000e+00, 8.000e+01],\n",
              "       [1.000e+00, 3.000e+01, 2.500e-01, 1.000e+01, 1.000e+00, 1.150e+02],\n",
              "       [2.000e+00, 3.400e+01, 1.200e+01, 3.000e+00, 3.000e+00, 9.500e+01],\n",
              "       [2.000e+00, 2.000e+01, 3.500e+00, 6.000e+00, 1.000e+00, 7.500e+01],\n",
              "       [2.000e+00, 3.500e+01, 8.250e+00, 8.000e+00, 3.000e+00, 1.000e+02],\n",
              "       [1.000e+00, 2.400e+01, 1.075e+01, 1.000e+01, 1.000e+00, 2.000e+01],\n",
              "       [1.000e+00, 1.900e+01, 8.000e+00, 8.000e+00, 1.000e+00, 1.600e+02]])"
            ]
          },
          "metadata": {},
          "execution_count": 122
        }
      ]
    },
    {
      "cell_type": "code",
      "source": [
        "y = df[['Result_of_Treatment']].values\n",
        "y = y.flatten()\n",
        "y"
      ],
      "metadata": {
        "colab": {
          "base_uri": "https://localhost:8080/"
        },
        "id": "SdBQSwmOx2kx",
        "outputId": "15dc1230-eae0-4d1e-b3f5-0dd27320b6a7"
      },
      "execution_count": 150,
      "outputs": [
        {
          "output_type": "execute_result",
          "data": {
            "text/plain": [
              "array([0, 1, 0, 0, 0, 1, 0, 0, 1, 0, 0, 1, 1, 1, 0, 1, 0, 0, 1, 1, 1, 1,\n",
              "       1, 0, 1, 0, 1, 0, 0, 1, 1, 1, 0, 0, 0, 1, 0, 0, 1, 0, 0, 1, 1, 1,\n",
              "       0, 1, 0, 0, 1, 1, 1, 1, 1, 0, 1, 0, 1, 0, 1, 1, 1, 0, 0, 0, 0, 1,\n",
              "       0, 0, 1, 0, 0, 1, 1, 1, 0, 1, 0, 0, 1, 1, 1, 1, 1, 0, 1, 0, 1, 0,\n",
              "       1, 1])"
            ]
          },
          "metadata": {},
          "execution_count": 150
        }
      ]
    },
    {
      "cell_type": "code",
      "source": [
        "# Separar o dataset em conjunto para treinamento e conjunto para teste\n",
        "X_train, X_test, y_train, y_test = train_test_split(x, y, test_size=0.3,\n",
        "                                                   random_state=0)"
      ],
      "metadata": {
        "id": "Wa-I2bDO5jB9"
      },
      "execution_count": 141,
      "outputs": []
    },
    {
      "cell_type": "code",
      "source": [
        "clf = svm.SVC(kernel='linear', random_state=None, probability=True)\n",
        "clf.fit(X_train, y_train)\n",
        "y_pred = clf.predict(X_test)"
      ],
      "metadata": {
        "id": "ZJGUVQEy7xeD"
      },
      "execution_count": 168,
      "outputs": []
    },
    {
      "cell_type": "markdown",
      "source": [],
      "metadata": {
        "id": "Uz0iK34ILcwP"
      }
    },
    {
      "cell_type": "code",
      "source": [
        "# Kernel Linear\n",
        "print(\"Accuracy:\", metrics.accuracy_score(y_test, y_pred))\n",
        "print(\"Precision:\", metrics.precision_score(y_test, y_pred, average='micro'))\n",
        "print(\"Recall:\", metrics.recall_score(y_test, y_pred, average='micro'))\n",
        "print(\"F1-Score: \", metrics.f1_score(y_test, y_pred, average='micro'))"
      ],
      "metadata": {
        "colab": {
          "base_uri": "https://localhost:8080/"
        },
        "id": "UK_thVmf8jaH",
        "outputId": "e6a1220e-fd73-4a75-8f9d-39300992b1f1"
      },
      "execution_count": 169,
      "outputs": [
        {
          "output_type": "stream",
          "name": "stdout",
          "text": [
            "Accuracy: 0.9629629629629629\n",
            "Precision: 0.9629629629629629\n",
            "Recall: 0.9629629629629629\n",
            "F1-Score:  0.9629629629629629\n"
          ]
        }
      ]
    },
    {
      "cell_type": "code",
      "source": [
        "svc = svm.SVC(kernel='rbf', coef0 = 5, C=1, gamma='auto', random_state=None)\n",
        "svc.fit(X_train, y_train)\n",
        "y_pred = svc.predict(X_test)"
      ],
      "metadata": {
        "id": "9XfKhP6m-Quc"
      },
      "execution_count": 170,
      "outputs": []
    },
    {
      "cell_type": "code",
      "source": [
        "# Kernel Rbf\n",
        "print(\"Accuracy:\", metrics.accuracy_score(y_test, y_pred))\n",
        "print(\"Precision:\", metrics.precision_score(y_test, y_pred, average='micro'))\n",
        "print(\"Recall:\", metrics.recall_score(y_test, y_pred, average='micro'))\n",
        "print(\"F1-Score: \", metrics.f1_score(y_test, y_pred, average='micro'))"
      ],
      "metadata": {
        "colab": {
          "base_uri": "https://localhost:8080/"
        },
        "id": "kFsC8RKm-UAc",
        "outputId": "2fb61480-1e15-4c2b-fc2d-7839fa497352"
      },
      "execution_count": 171,
      "outputs": [
        {
          "output_type": "stream",
          "name": "stdout",
          "text": [
            "Accuracy: 0.8518518518518519\n",
            "Precision: 0.8518518518518519\n",
            "Recall: 0.8518518518518519\n",
            "F1-Score:  0.8518518518518519\n"
          ]
        }
      ]
    }
  ]
}